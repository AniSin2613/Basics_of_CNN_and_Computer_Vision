{
  "cells": [
    {
      "metadata": {},
      "cell_type": "markdown",
      "source": "# CNN based emoji classifier"
    },
    {
      "metadata": {
        "id": "UncprnB0ymAE",
        "colab_type": "text"
      },
      "cell_type": "markdown",
      "source": "In this notebook, we will try to classify emoji images into two categories - happy or sad.\n\nThe dataset contains 80 images, 40 happy and 40 sad. \nWe will create a convolutional neural network that trains to very high accuracy on these images."
    },
    {
      "metadata": {
        "id": "7Vti6p3PxmpS",
        "colab_type": "code",
        "colab": {
          "base_uri": "https://localhost:8080/",
          "height": 204
        },
        "outputId": "56c2bc0b-638e-462e-f9e2-d6610557405c",
        "trusted": true
      },
      "cell_type": "code",
      "source": "import tensorflow as tf\nimport os\nimport zipfile\n\n\nzip_ref = zipfile.ZipFile(\"/content/happy-or-sad.zip\", 'r')\nzip_ref.extractall(\"/content/h-or-s\")\nzip_ref.close()",
      "execution_count": null,
      "outputs": []
    },
    {
      "metadata": {
        "trusted": true
      },
      "cell_type": "code",
      "source": "# stop further training if this much accuracy achieved\nDESIRED_ACCURACY = 0.999\n\n# defining our callback class\nclass myCallback(tf.keras.callbacks.Callback):\n    def on_epoch_end(self, epoch, logs={}):\n        if(logs.get('acc')>DESIRED_ACCURACY):\n            print(\"\\nReached 99.9% accuracy so cancelling training!\")\n            self.model.stop_training = True\ncallbacks = myCallback()",
      "execution_count": null,
      "outputs": []
    },
    {
      "metadata": {
        "id": "6DLGbXXI1j_V",
        "colab_type": "code",
        "colab": {
          "base_uri": "https://localhost:8080/",
          "height": 88
        },
        "outputId": "149b170f-1fe5-4488-dd77-714554ff3b33",
        "trusted": true
      },
      "cell_type": "code",
      "source": "# model definition and compilation\nmodel = tf.keras.models.Sequential([\n    tf.keras.layers.Conv2D(16, (3,3), activation='relu', input_shape=(150, 150, 3)),\n    tf.keras.layers.MaxPooling2D(2, 2),\n    tf.keras.layers.Conv2D(32, (3,3), activation='relu'),\n    tf.keras.layers.MaxPooling2D(2,2),\n    tf.keras.layers.Conv2D(32, (3,3), activation='relu'),\n    tf.keras.layers.MaxPooling2D(2,2),\n    tf.keras.layers.Flatten(),\n    tf.keras.layers.Dense(512, activation='relu'),\n    tf.keras.layers.Dense(1, activation='sigmoid')\n])\n\nfrom tensorflow.keras.optimizers import RMSprop\n\nmodel.compile(loss='binary_crossentropy',\n              optimizer=RMSprop(lr=0.001),\n              metrics=['acc'])",
      "execution_count": null,
      "outputs": []
    },
    {
      "metadata": {
        "id": "4Ap9fUJE1vVu",
        "colab_type": "code",
        "colab": {
          "base_uri": "https://localhost:8080/",
          "height": 34
        },
        "outputId": "d84eb066-762b-4f39-96af-307c230edcde",
        "trusted": true
      },
      "cell_type": "code",
      "source": "# creating an instance of an ImageDataGenerator called train_datagen \n# And a train_generator by calling train_datagen.flow_from_directory\n\nfrom tensorflow.keras.preprocessing.image import ImageDataGenerator\n\ntrain_datagen = ImageDataGenerator(rescale=1/255)\n\ntrain_generator = train_datagen.flow_from_directory(\n        \"/tmp/h-or-s\",  \n        target_size=(150, 150), \n        batch_size=10,\n        class_mode='binary')",
      "execution_count": null,
      "outputs": []
    },
    {
      "metadata": {
        "id": "48dLm13U1-Le",
        "colab_type": "code",
        "colab": {
          "base_uri": "https://localhost:8080/",
          "height": 496
        },
        "outputId": "8d833296-ef80-47d6-9c63-055cb1d7a339",
        "trusted": true
      },
      "cell_type": "code",
      "source": "# training the model for 15 epochs \nhistory = model.fit_generator(\n      train_generator,\n      steps_per_epoch=2,  \n      epochs=15,\n      verbose=1,\n      callbacks=[callbacks])",
      "execution_count": null,
      "outputs": []
    }
  ],
  "metadata": {
    "colab": {
      "name": "Exercise4-Question.ipynb",
      "version": "0.3.2",
      "provenance": []
    },
    "kernelspec": {
      "name": "python3",
      "display_name": "Python 3",
      "language": "python"
    },
    "language_info": {
      "mimetype": "text/x-python",
      "nbconvert_exporter": "python",
      "name": "python",
      "file_extension": ".py",
      "version": "3.5.4",
      "pygments_lexer": "ipython3",
      "codemirror_mode": {
        "version": 3,
        "name": "ipython"
      }
    }
  },
  "nbformat": 4,
  "nbformat_minor": 1
}