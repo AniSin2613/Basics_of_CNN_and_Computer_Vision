{
  "cells": [
    {
      "metadata": {
        "colab_type": "text",
        "id": "ZIAkIlfmCe1B"
      },
      "cell_type": "markdown",
      "source": "# The Hello World of Deep Learning with Neural Networks"
    },
    {
      "metadata": {
        "colab_type": "text",
        "id": "fA93WUy1zzWf"
      },
      "cell_type": "markdown",
      "source": "Like every first app, we should start with something super simple that shows the overall scaffolding for how our code works. \n\nIn the case of creating neural networks, the sample we are going to use here is one where it learns the relationship between two numbers. So, for example, for a function like this, we know the 'rules' — \n\nx = [-1, 0, 1, 2, 3, 4]\n\ny = [-3, -1, 1, 3, 5, 7]\n\n```\nfloat hw_function(float x){\n    float y = (2 * x) - 1;\n    return y;\n}\n```\n\nSo how would we train a neural network to do the equivalent task? Using data! By feeding it with a set of Xs, and a set of Ys, it should be able to figure out the relationship between them. \n\nThis is obviously a very different paradigm than what we are be used to in traditional AI approach, so let's step through it piece by piece.\n"
    },
    {
      "metadata": {
        "colab_type": "text",
        "id": "DzbtdRcZDO9B"
      },
      "cell_type": "markdown",
      "source": "## Imports\n\nLet's start with our imports. Here we are importing TensorFlow and calling it tf for ease of use.\n\nWe then import a library called numpy, which helps us to represent our data as lists easily and quickly.\n\nThe framework for defining a neural network as a set of Sequential layers is called keras, so we import that too."
    },
    {
      "metadata": {
        "colab": {},
        "colab_type": "code",
        "id": "X9uIpOS2zx7k",
        "trusted": false
      },
      "cell_type": "code",
      "source": "import tensorflow as tf\nimport numpy as np\nfrom tensorflow import keras",
      "execution_count": 0,
      "outputs": []
    },
    {
      "metadata": {
        "colab_type": "text",
        "id": "wwJGmDrQ0EoB"
      },
      "cell_type": "markdown",
      "source": "## Define and Compile the Neural Network\n\nNext we will create the simplest possible neural network. It has 1 layer, and that layer has 1 neuron, and the input shape to it is just 1 value."
    },
    {
      "metadata": {
        "colab": {},
        "colab_type": "code",
        "id": "kQFAr_xo0M4T",
        "trusted": false
      },
      "cell_type": "code",
      "source": "model = tf.keras.Sequential([keras.layers.Dense(units=1, input_shape=[1])])",
      "execution_count": 0,
      "outputs": []
    },
    {
      "metadata": {
        "colab_type": "text",
        "id": "KhjZjZ-c0Ok9"
      },
      "cell_type": "markdown",
      "source": "Now we compile our Neural Network. When we do so, we have to specify 2 functions, a loss and an optimizer.\n\n\nWe know that in our function, the relationship between the numbers is y = 2x-1. \n\nWhen the computer is trying to 'learn' that, it makes a guess...maybe y = 10x + 10. The LOSS function measures the guessed answers against the known correct answers and measures how well or how badly it did.\n\nIt then uses the OPTIMIZER function to make another guess. Based on how the loss function went, it will try to minimize the loss. At that point maybe it will come up with somehting like y = 5x + 5, which, while still pretty bad, is closer to the correct result (i.e. the loss is lower)\n\nIt will repeat this for a number of EPOCHS. \n"
    },
    {
      "metadata": {
        "colab": {},
        "colab_type": "code",
        "id": "m8YQN1H41L-Y",
        "trusted": false
      },
      "cell_type": "code",
      "source": "model.compile(optimizer='sgd', loss='mean_squared_error')",
      "execution_count": 0,
      "outputs": []
    },
    {
      "metadata": {
        "colab_type": "text",
        "id": "5QyOUhFw1OUX"
      },
      "cell_type": "markdown",
      "source": "## Providing the Data\n\nNext up we'll feed in some data. In this case we are taking 6 xs and 6 ys. We knwo that the relationship between these is that y = 2x-1, so where x = -1, y = -3 etc. etc. \n\nA python library called 'Numpy' provides lots of array type data structures that are a defacto standard way of doing it. We declare that we want to use these by specifying the values as an np.array[]"
    },
    {
      "metadata": {
        "colab": {},
        "colab_type": "code",
        "id": "4Dxk4q-jzEy4",
        "trusted": false
      },
      "cell_type": "code",
      "source": "xs = np.array([-1.0,  0.0, 1.0, 2.0, 3.0, 4.0], dtype=float)\nys = np.array([-3.0, -1.0, 1.0, 3.0, 5.0, 7.0], dtype=float)",
      "execution_count": 0,
      "outputs": []
    },
    {
      "metadata": {
        "colab_type": "text",
        "id": "n_YcWRElnM_b"
      },
      "cell_type": "markdown",
      "source": "# Training the Neural Network"
    },
    {
      "metadata": {
        "colab_type": "text",
        "id": "c-Jk4dG91dvD"
      },
      "cell_type": "markdown",
      "source": "The process of training the neural network, where it 'learns' the relationship between the Xs and Ys is in the **model.fit**  call. This is where it will go through the loop we spoke about above, making a guess, measuring how good or bad it is (aka the loss), using the opimizer to make another guess etc. It will do it for the number of epochs we specify. When we run this code, we'll see the loss on the right hand side."
    },
    {
      "metadata": {
        "colab": {},
        "colab_type": "code",
        "id": "lpRrl7WK10Pq",
        "trusted": false
      },
      "cell_type": "code",
      "source": "model.fit(xs, ys, epochs=500)",
      "execution_count": 0,
      "outputs": []
    },
    {
      "metadata": {
        "colab_type": "text",
        "id": "kaFIr71H2OZ-"
      },
      "cell_type": "markdown",
      "source": "Ok, now we have a model that has been trained to learn the relationship between X and Y. We can use the **model.predict** method to have it figure out the Y for a previously unknown X. So, for example, if X = 10, what does Y will be?"
    },
    {
      "metadata": {
        "colab": {},
        "colab_type": "code",
        "id": "oxNzL4lS2Gui",
        "trusted": false
      },
      "cell_type": "code",
      "source": "print(model.predict([10.0]))",
      "execution_count": 0,
      "outputs": []
    },
    {
      "metadata": {
        "colab_type": "text",
        "id": "btF2CSFH2iEX"
      },
      "cell_type": "markdown",
      "source": "The correct answer is 19. But it ended up being a little under, i.e. 18.9. \n\nRemember that neural networks deal with probabilities, so given the data that we fed the NN with, it calculated that there is a very high probability that the relationship between X and Y is Y = 2X - 1, but with only 6 data points we can't know for sure. As a result, the result for 10 is very close to 19, but not necessarily 19."
    }
  ],
  "metadata": {
    "colab": {
      "include_colab_link": true,
      "name": "Course 1 - Part 2 - Lesson 2 - Notebook.ipynb",
      "provenance": [],
      "toc_visible": true
    },
    "kernelspec": {
      "name": "python3",
      "display_name": "Python 3",
      "language": "python"
    },
    "language_info": {
      "mimetype": "text/x-python",
      "nbconvert_exporter": "python",
      "name": "python",
      "pygments_lexer": "ipython3",
      "version": "3.5.4",
      "file_extension": ".py",
      "codemirror_mode": {
        "version": 3,
        "name": "ipython"
      }
    }
  },
  "nbformat": 4,
  "nbformat_minor": 1
}