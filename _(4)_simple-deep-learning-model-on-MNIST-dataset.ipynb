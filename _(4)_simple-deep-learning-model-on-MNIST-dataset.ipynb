{
  "cells": [
    {
      "metadata": {
        "id": "tOoyQ70H00_s",
        "colab_type": "text"
      },
      "cell_type": "markdown",
      "source": "We learned how to do classification using Fashion MNIST, a data set containing items of clothing. There's another, similar dataset called MNIST which has items of handwriting -- the digits 0 through 9.\n\nWe will write an MNIST classifier that trains to 99% accuracy or above, and does it without a fixed number of epochs -- i.e. it should stop training once it reaches that level of accuracy."
    },
    {
      "metadata": {
        "id": "9rvXQGAA0ssC",
        "colab_type": "code",
        "colab": {
          "base_uri": "https://localhost:8080/",
          "height": 85
        },
        "outputId": "34fa7dc6-22c6-4064-9d95-78bc173f56aa",
        "trusted": false
      },
      "cell_type": "code",
      "source": "import tensorflow as tf\n\nmnist = tf.keras.datasets.mnist\n(x_train, y_train),(x_test, y_test) = mnist.load_data()\nx_train = x_train/255.0\ny_train = y_train/255.0\n\nclass myCallback(tf.keras.callbacks.Callback):\n    def on_epoch_end(self, epoch, logs={}):\n        if(logs.get('acc') > 0.99):\n            print(\"Reached 99% accuracy so cancelling trining!\")\n            self.model.stop_training = True\n\ncallbacks = myCallback()\n\nmodel = tf.keras.models.Sequential([tf.keras.layers.Flatten(),\n                                    tf.keras.layers.Dense(512, activation = tf.nn.relu),\n                                    tf.keras.layers.Dense(10, activation = tf.nn.softmax)\n                                   ])\n\nmodel.compile(optimizer='adam',\n              loss='sparse_categorical_crossentropy',\n              metrics=['accuracy'])\n\nmodel.fit(x_train, y_train, epochs = 10, callbacks = [callbacks])\n",
      "execution_count": 7,
      "outputs": [
        {
          "output_type": "stream",
          "text": "Epoch 1/10\n59968/60000 [============================>.] - ETA: 0s - loss: 0.0024 - acc: 0.9994Reached 99% accuracy so cancelling trining!\n60000/60000 [==============================] - 12s 199us/sample - loss: 0.0024 - acc: 0.9995\n",
          "name": "stdout"
        },
        {
          "output_type": "execute_result",
          "data": {
            "text/plain": "<tensorflow.python.keras.callbacks.History at 0x7f10e58b6dd8>"
          },
          "metadata": {
            "tags": []
          },
          "execution_count": 7
        }
      ]
    },
    {
      "metadata": {
        "id": "ua9pXq6CErYW",
        "colab_type": "code",
        "colab": {},
        "trusted": false
      },
      "cell_type": "code",
      "source": "",
      "execution_count": 0,
      "outputs": []
    }
  ],
  "metadata": {
    "colab": {
      "name": "Exercise2-Question.ipynb",
      "version": "0.3.2",
      "provenance": [],
      "collapsed_sections": []
    },
    "kernelspec": {
      "name": "python3",
      "display_name": "Python 3",
      "language": "python"
    },
    "language_info": {
      "mimetype": "text/x-python",
      "nbconvert_exporter": "python",
      "name": "python",
      "pygments_lexer": "ipython3",
      "version": "3.5.4",
      "file_extension": ".py",
      "codemirror_mode": {
        "version": 3,
        "name": "ipython"
      }
    }
  },
  "nbformat": 4,
  "nbformat_minor": 1
}