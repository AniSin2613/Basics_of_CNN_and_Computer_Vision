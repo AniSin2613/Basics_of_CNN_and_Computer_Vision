{
  "cells": [
    {
      "metadata": {
        "id": "iQjHqsmTAVLU",
        "colab_type": "text"
      },
      "cell_type": "markdown",
      "source": "We now know how we would improve Fashion MNIST using Convolutions. We will try improve MNIST to 99.8% accuracy or more using only a single convolutional layer and a single MaxPooling 2D. We will stop training once the accuracy goes above this amount. "
    },
    {
      "metadata": {
        "id": "sfQRyaJWAIdg",
        "colab_type": "code",
        "colab": {
          "base_uri": "https://localhost:8080/",
          "height": 445
        },
        "outputId": "27d678f0-aa15-45b2-9171-d747790b3fd4",
        "trusted": false
      },
      "cell_type": "code",
      "source": "import tensorflow as tf\n\nclass myCallback(tf.keras.callbacks.Callback):\n    def on_epoc_end(self, epoch, logs={}):\n        if(logs.get('acc') > 0.998):\n            print(\"Reached accuracy 99.8% accuracyc so cancelling training!\")\n            self.model.stop_training = True\ncallbacks = myCallback()\n\nmnist = tf.keras.datasets.mnist\n(training_images, training_labels), (test_images, test_labels) = mnist.load_data()\n\ntraining_images = training_images.reshape(60000, 28, 28, 1)\ntraining_images = training_images/255.0\ntest_images = test_images.reshape(10000, 28, 28, 1)\ntest_images = test_images/255.0\n\nmodel = tf.keras.models.Sequential([\n    tf.keras.layers.Conv2D(32, (3,3), activation = 'relu', input_shape = (28, 28, 1)),\n    tf.keras.layers.MaxPooling2D(2,2),\n    tf.keras.layers.Flatten(),\n    tf.keras.layers.Dense(128, activation = 'relu'),\n    tf.keras.layers.Dense(10, activation = 'softmax')\n    ])\n\nmodel.compile(optimizer = 'adam', loss = 'sparse_categorical_crossentropy', metrics = ['accuracy'])\nmodel.fit(training_images, training_labels, epochs = 10, callbacks = [callbacks])",
      "execution_count": 2,
      "outputs": [
        {
          "output_type": "stream",
          "text": "WARNING:tensorflow:From /usr/local/lib/python3.6/dist-packages/tensorflow/python/ops/resource_variable_ops.py:435: colocate_with (from tensorflow.python.framework.ops) is deprecated and will be removed in a future version.\nInstructions for updating:\nColocations handled automatically by placer.\nEpoch 1/10\n60000/60000 [==============================] - 10s 172us/sample - loss: 0.1532 - acc: 0.9553\nEpoch 2/10\n60000/60000 [==============================] - 6s 102us/sample - loss: 0.0516 - acc: 0.9841\nEpoch 3/10\n60000/60000 [==============================] - 6s 102us/sample - loss: 0.0332 - acc: 0.9899\nEpoch 4/10\n60000/60000 [==============================] - 6s 102us/sample - loss: 0.0232 - acc: 0.9923\nEpoch 5/10\n60000/60000 [==============================] - 6s 103us/sample - loss: 0.0152 - acc: 0.9952\nEpoch 6/10\n60000/60000 [==============================] - 6s 104us/sample - loss: 0.0123 - acc: 0.9960\nEpoch 7/10\n60000/60000 [==============================] - 6s 102us/sample - loss: 0.0085 - acc: 0.9973\nEpoch 8/10\n60000/60000 [==============================] - 6s 103us/sample - loss: 0.0070 - acc: 0.9978\nEpoch 9/10\n60000/60000 [==============================] - 6s 103us/sample - loss: 0.0065 - acc: 0.9978\nEpoch 10/10\n60000/60000 [==============================] - 6s 106us/sample - loss: 0.0052 - acc: 0.9984\n",
          "name": "stdout"
        },
        {
          "output_type": "execute_result",
          "data": {
            "text/plain": "<tensorflow.python.keras.callbacks.History at 0x7f21df923668>"
          },
          "metadata": {
            "tags": []
          },
          "execution_count": 2
        }
      ]
    },
    {
      "metadata": {
        "id": "H_wWasEg7BXC",
        "colab_type": "code",
        "colab": {},
        "trusted": false
      },
      "cell_type": "code",
      "source": "",
      "execution_count": 0,
      "outputs": []
    }
  ],
  "metadata": {
    "colab": {
      "name": "Exercise 3 - Question.ipynb",
      "version": "0.3.2",
      "provenance": [],
      "collapsed_sections": []
    },
    "kernelspec": {
      "name": "python3",
      "display_name": "Python 3",
      "language": "python"
    },
    "accelerator": "GPU",
    "language_info": {
      "mimetype": "text/x-python",
      "nbconvert_exporter": "python",
      "name": "python",
      "file_extension": ".py",
      "version": "3.5.4",
      "pygments_lexer": "ipython3",
      "codemirror_mode": {
        "version": 3,
        "name": "ipython"
      }
    }
  },
  "nbformat": 4,
  "nbformat_minor": 1
}